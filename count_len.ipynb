{
 "cells": [
  {
   "cell_type": "code",
   "execution_count": 4,
   "metadata": {},
   "outputs": [
    {
     "name": "stdout",
     "output_type": "stream",
     "text": [
      "87688\n",
      "87689\n"
     ]
    }
   ],
   "source": [
    "# load text file\n",
    "data = open('2012_train.txt', 'r').read().split('\\n')\n",
    "print(len(data))\n",
    "\n",
    "data_1 = open('splitted/2012_train.json', 'r').read().split('\\n')\n",
    "data_2 = open('splitted/2012_dev.json', 'r').read().split('\\n')\n",
    "print(len(data_1) + len(data_2))"
   ]
  },
  {
   "cell_type": "code",
   "execution_count": 5,
   "metadata": {},
   "outputs": [
    {
     "name": "stdout",
     "output_type": "stream",
     "text": [
      "446001\n"
     ]
    }
   ],
   "source": [
    "# load text file\n",
    "data = open('splitted/q_2016_d_2017_dev_positive_ctx.json', 'r').read().split('\\n')\n",
    "print(len(data))"
   ]
  },
  {
   "cell_type": "code",
   "execution_count": 1,
   "metadata": {},
   "outputs": [
    {
     "name": "stdout",
     "output_type": "stream",
     "text": [
      "74031\n"
     ]
    }
   ],
   "source": [
    "# load text file\n",
    "data = open('wmt_yearly_data_cut_500_tok/2012_train.txt', 'r').read().split('\\n')\n",
    "print(len(data))\n"
   ]
  },
  {
   "cell_type": "code",
   "execution_count": null,
   "metadata": {},
   "outputs": [],
   "source": []
  }
 ],
 "metadata": {
  "kernelspec": {
   "display_name": "rag-bing",
   "language": "python",
   "name": "python3"
  },
  "language_info": {
   "codemirror_mode": {
    "name": "ipython",
    "version": 3
   },
   "file_extension": ".py",
   "mimetype": "text/x-python",
   "name": "python",
   "nbconvert_exporter": "python",
   "pygments_lexer": "ipython3",
   "version": "3.9.18"
  }
 },
 "nbformat": 4,
 "nbformat_minor": 2
}
